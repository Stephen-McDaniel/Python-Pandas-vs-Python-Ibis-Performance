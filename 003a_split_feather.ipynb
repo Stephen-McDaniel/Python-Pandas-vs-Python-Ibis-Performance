{
 "cells": [
  {
   "cell_type": "code",
   "execution_count": null,
   "metadata": {},
   "outputs": [],
   "source": [
    "###########################################################################################################\n",
    "# 003a_split_feather.ipynb\n",
    "#\n",
    "# Read the feather file of Amazon Reviews from the McAuley-Lab data as a data frame, \n",
    "#       see https://github.com/Stephen-McDaniel/Download_Amazon_Reviews_2023\n",
    "#       then:\n",
    "#           1) Split it into a feather file of most columns, except the large text columns\n",
    "#           2) Split it into a 2nd feather file of the large text columns\n",
    "# row_number is the unique identifier field common to both files\n",
    "#\n",
    "# Before running:\n",
    "#   1) Change the core_path variable\n",
    "#\n",
    "# Stephen McDaniel at https://PeakPython.com\n",
    "# 2024-NOV-19\n",
    "#\n",
    "# License: MIT License\n",
    "###########################################################################################################\n",
    "\n",
    "core_path = '/root/pc_01_pandasibis/110_McAuley_Amazon_Data/'"
   ]
  },
  {
   "cell_type": "code",
   "execution_count": null,
   "metadata": {},
   "outputs": [],
   "source": [
    "# Start of notebook\n",
    "import time\n",
    "notebook_start_time = time.time()\n"
   ]
  },
  {
   "cell_type": "code",
   "execution_count": null,
   "metadata": {},
   "outputs": [],
   "source": [
    "import pandas as pd"
   ]
  },
  {
   "cell_type": "code",
   "execution_count": null,
   "metadata": {},
   "outputs": [],
   "source": [
    "df = pd.read_feather(core_path + '/feather/Health_and_Household.feather')\n",
    "\n",
    "# Define the column groups for the two tables\n",
    "columns_table1 = ['row_number', 'rating', 'asin', 'parent_asin', 'user_id', 'helpful_vote', 'verified_purchase', 'date_time']\n",
    "columns_table2 = ['row_number', 'title', 'text']\n",
    "\n",
    "# Split the DataFrame into two tables\n",
    "table1 = df[columns_table1]\n",
    "table2 = df[columns_table2]\n",
    "\n",
    "table1.to_feather(core_path + \"/feather/Health_and_Household_1.feather\")\n",
    "table2.to_feather(core_path + \"/feather/Health_and_Household_2.feather\")\n"
   ]
  },
  {
   "cell_type": "code",
   "execution_count": null,
   "metadata": {},
   "outputs": [],
   "source": [
    "# End of notebook\n",
    "notebook_end_time = time.time()\n",
    "runtime_minutes = (notebook_end_time - notebook_start_time) / 60\n",
    "print(f\"Total notebook runtime: {runtime_minutes:.2f} minutes\")\n"
   ]
  }
 ],
 "metadata": {
  "kernelspec": {
   "display_name": "Python 3",
   "language": "python",
   "name": "python3"
  },
  "language_info": {
   "codemirror_mode": {
    "name": "ipython",
    "version": 3
   },
   "file_extension": ".py",
   "mimetype": "text/x-python",
   "name": "python",
   "nbconvert_exporter": "python",
   "pygments_lexer": "ipython3",
   "version": "3.12.5"
  }
 },
 "nbformat": 4,
 "nbformat_minor": 2
}
