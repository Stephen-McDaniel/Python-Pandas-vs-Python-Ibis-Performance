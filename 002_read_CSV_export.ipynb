{
 "cells": [
  {
   "cell_type": "code",
   "execution_count": null,
   "metadata": {},
   "outputs": [],
   "source": [
    "###########################################################################################################\n",
    "# 002_read_CSV_export.ipynb\n",
    "#\n",
    "# Read the CSV of Amazon Reviews from the McAuley-Lab data as a data frame, \n",
    "#       see https://github.com/Stephen-McDaniel/Download_Amazon_Reviews_2023\n",
    "#       then:\n",
    "#           1) Export it to DuckDB for use by Ibis in later programs\n",
    "#           2) Export it to feather file for ultra fast access from Pandas\n",
    "#\n",
    "# Before running:\n",
    "#   1) Create the duckdb and feather directories\n",
    "#   2) Change the core_path variable\n",
    "#\n",
    "# Stephen McDaniel at https://PeakPython.com\n",
    "# 2024-NOV-19\n",
    "#\n",
    "# License: MIT License\n",
    "###########################################################################################################\n",
    " \n",
    "core_path = '/root/pc_01_pandasibis/110_McAuley_Amazon_Data/'"
   ]
  },
  {
   "cell_type": "code",
   "execution_count": null,
   "metadata": {},
   "outputs": [],
   "source": [
    "import os\n",
    "\n",
    "import pandas as pd\n",
    "\n",
    "import ibis\n",
    "\n",
    "import ibis.selectors as s\n",
    "from ibis import _\n",
    "\n",
    "ibis.options.interactive = True\n",
    "\n",
    "from itables import show\n",
    "from itables.javascript import init_notebook_mode\n",
    "\n",
    "# Initialize itables\n",
    "init_notebook_mode(all_interactive=True)"
   ]
  },
  {
   "cell_type": "code",
   "execution_count": null,
   "metadata": {},
   "outputs": [],
   "source": [
    "table_name = 'Health_and_Household'\n",
    "csv_in = core_path + '/amazon_reviews/processed/' + table_name + '.csv'\n",
    "\n",
    "df = pd.read_csv(csv_in, nrows=100)  # Skip header + read 10 rows\n",
    "\n",
    "# To see all columns without truncation\n",
    "pd.set_option('display.max_columns', None)\n",
    "print(df)\n",
    "\n",
    "# To see the data types of columns\n",
    "print(df.dtypes)\n",
    "\n",
    "# Check shape (rows, columns)\n",
    "print(df.shape)"
   ]
  },
  {
   "cell_type": "code",
   "execution_count": null,
   "metadata": {},
   "outputs": [],
   "source": [
    "show(df)"
   ]
  },
  {
   "cell_type": "code",
   "execution_count": null,
   "metadata": {},
   "outputs": [],
   "source": [
    "import ibis\n",
    "\n",
    "df = pd.read_csv(csv_in)\n",
    "\n",
    "df['date_time'] = pd.to_datetime(df['timestamp']/1000, unit='s').dt.round('s')\n",
    "\n",
    "df = df.drop('timestamp', axis=1)"
   ]
  },
  {
   "cell_type": "code",
   "execution_count": null,
   "metadata": {},
   "outputs": [],
   "source": [
    "show(df)"
   ]
  },
  {
   "cell_type": "code",
   "execution_count": null,
   "metadata": {},
   "outputs": [],
   "source": [
    "con = ibis.duckdb.connect(core_path + \"/duckdb/db.duckdb\")\n",
    "\n",
    "con.create_table(table_name, df, overwrite=True)"
   ]
  },
  {
   "cell_type": "code",
   "execution_count": null,
   "metadata": {},
   "outputs": [],
   "source": [
    "con.disconnect()"
   ]
  },
  {
   "cell_type": "code",
   "execution_count": null,
   "metadata": {},
   "outputs": [],
   "source": [
    "# Check if file exists before attempting to delete\n",
    "if os.path.exists(csv_in):\n",
    "    print(f\"File '{csv_in}' has been deleted.\")\n",
    "else:\n",
    "    print(f\"File '{csv_in}' does not exist.\")"
   ]
  },
  {
   "cell_type": "code",
   "execution_count": null,
   "metadata": {},
   "outputs": [],
   "source": [
    "# Writing for Pandas read\n",
    "df.to_feather(core_path + \"/feather/\" + table_name + \".feather\")\n",
    "\n"
   ]
  },
  {
   "cell_type": "code",
   "execution_count": null,
   "metadata": {},
   "outputs": [],
   "source": [
    "df.columns"
   ]
  }
 ],
 "metadata": {
  "kernelspec": {
   "display_name": "Python 3",
   "language": "python",
   "name": "python3"
  },
  "language_info": {
   "codemirror_mode": {
    "name": "ipython",
    "version": 3
   },
   "file_extension": ".py",
   "mimetype": "text/x-python",
   "name": "python",
   "nbconvert_exporter": "python",
   "pygments_lexer": "ipython3",
   "version": "3.12.5"
  }
 },
 "nbformat": 4,
 "nbformat_minor": 2
}
