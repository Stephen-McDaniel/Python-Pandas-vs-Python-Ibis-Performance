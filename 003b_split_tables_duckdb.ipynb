{
 "cells": [
  {
   "cell_type": "code",
   "execution_count": null,
   "metadata": {},
   "outputs": [],
   "source": [
    "###########################################################################################################\n",
    "# 003b_split_tables_duckdb.ipynb\n",
    "#\n",
    "# Read the table from DuckdDB of Amazon Reviews from the McAuley-Lab data, \n",
    "#       see https://github.com/Stephen-McDaniel/Download_Amazon_Reviews_2023\n",
    "#       then:\n",
    "#           1) Split it into a table of most columns, except the large text columns\n",
    "#           2) Split it into a 2nd table of the large text columns\n",
    "# row_number is the unique identifier field common to both tables\n",
    "#\n",
    "# Before running:\n",
    "#   1) Change the core_path variable\n",
    "#\n",
    "# Stephen McDaniel at https://PeakPython.com\n",
    "# 2024-NOV-19\n",
    "#\n",
    "# License: MIT License\n",
    "###########################################################################################################\n",
    "\n",
    "core_path = '/root/pc_01_pandasibis/110_McAuley_Amazon_Data/'"
   ]
  },
  {
   "cell_type": "code",
   "execution_count": null,
   "metadata": {},
   "outputs": [],
   "source": [
    "# Start of notebook\n",
    "import time\n",
    "notebook_start_time = time.time()\n"
   ]
  },
  {
   "cell_type": "code",
   "execution_count": null,
   "metadata": {},
   "outputs": [],
   "source": [
    "import pandas as pd\n",
    "\n",
    "import ibis\n",
    "\n",
    "import ibis.selectors as s\n",
    "from ibis import _\n",
    "\n",
    "ibis.options.interactive = True\n",
    "\n",
    "from itables import show\n",
    "from itables.javascript import init_notebook_mode\n",
    "\n",
    "# Initialize itables\n",
    "init_notebook_mode(all_interactive=True)\n",
    "\n"
   ]
  },
  {
   "cell_type": "code",
   "execution_count": null,
   "metadata": {},
   "outputs": [],
   "source": [
    "\n",
    "# Connect to the DuckDB file\n",
    "con = ibis.duckdb.connect(core_path + \"/duckdb/db.duckdb\")\n",
    "\n",
    "# Assume an existing table in DuckDB named 'original_table'\n",
    "# Reference the table using Ibis\n",
    "original_table = con.table(\"Health_and_Household\")\n",
    "\n",
    "# Define columns for the new tables\n",
    "columns_table1 = ['row_number', 'rating', 'asin', 'parent_asin', 'user_id', 'helpful_vote', 'verified_purchase', 'date_time']\n",
    "columns_table2 = ['row_number', 'title', 'text']\n",
    "\n",
    "con.create_table(\n",
    "    'Health_and_Household_1',    # Name for the new permanent table\n",
    "    (\n",
    "        original_table.\n",
    "            select(columns_table1)\n",
    "    ),\n",
    "    temp=False, \n",
    "    overwrite=True            # Will replace if table already exists\n",
    ")\n",
    "\n",
    "con.create_table(\n",
    "    'Health_and_Household_2',    # Name for the new permanent table\n",
    "    (\n",
    "        original_table.\n",
    "            select(columns_table2)\n",
    "    ),\n",
    "    temp=False , \n",
    "    overwrite=True            # Will replace if table already exists\n",
    ")\n",
    "\n",
    "con.disconnect()"
   ]
  },
  {
   "cell_type": "code",
   "execution_count": null,
   "metadata": {},
   "outputs": [],
   "source": [
    "# End of notebook\n",
    "notebook_end_time = time.time()\n",
    "runtime_minutes = (notebook_end_time - notebook_start_time) / 60\n",
    "print(f\"Total notebook runtime: {runtime_minutes:.2f} minutes\")\n"
   ]
  }
 ],
 "metadata": {
  "kernelspec": {
   "display_name": "Python 3",
   "language": "python",
   "name": "python3"
  },
  "language_info": {
   "codemirror_mode": {
    "name": "ipython",
    "version": 3
   },
   "file_extension": ".py",
   "mimetype": "text/x-python",
   "name": "python",
   "nbconvert_exporter": "python",
   "pygments_lexer": "ipython3",
   "version": "3.12.5"
  }
 },
 "nbformat": 4,
 "nbformat_minor": 2
}
